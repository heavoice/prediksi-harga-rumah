{
 "cells": [
  {
   "cell_type": "code",
   "execution_count": 20,
   "id": "2f4cf9b1",
   "metadata": {},
   "outputs": [],
   "source": [
    "# 📦 Import Library\n",
    "import joblib\n",
    "import numpy as np\n",
    "import pandas as pd\n",
    "import os\n"
   ]
  },
  {
   "cell_type": "code",
   "execution_count": 31,
   "id": "839e93e4",
   "metadata": {},
   "outputs": [
    {
     "name": "stdout",
     "output_type": "stream",
     "text": [
      "✅ Model berhasil dimuat.\n"
     ]
    }
   ],
   "source": [
    "# 📁 Load Model\n",
    "model_path = os.path.abspath(os.path.join(os.path.dirname(\"\"), \"../models/linear_regression_model.pkl\"))\n",
    "model = joblib.load(model_path)\n",
    "print(\"✅ Model berhasil dimuat.\")\n"
   ]
  },
  {
   "cell_type": "code",
   "execution_count": 32,
   "id": "6a5e1ae3",
   "metadata": {},
   "outputs": [],
   "source": [
    "# 🔍 Fungsi Prediksi\n",
    "def predict_house_price(luasTanah, kamarTidur, jumlahKamarMandi, lantai, jarakkePusatKota, dayaListrik, tahunDibangun):\n",
    "    input_data = pd.DataFrame([[luasTanah, kamarTidur, jumlahKamarMandi, lantai, jarakkePusatKota, dayaListrik, tahunDibangun]],\n",
    "                              columns=[\"luasTanah\", \"kamarTidur\", \"jumlahKamarMandi\", \"lantai\", 'jarakkePusatKota', 'dayaListrik', 'tahunBangun'])\n",
    "    predicted_price = model.predict(input_data)\n",
    "    return predicted_price[0]\n"
   ]
  },
  {
   "cell_type": "code",
   "execution_count": 33,
   "id": "c5f42dc9",
   "metadata": {},
   "outputs": [],
   "source": [
    "# 🧮 Input Data User (gunakan sel ini untuk ubah nilai prediksi)\n",
    "luasTanah = 120.5\n",
    "kamarTidur = 3\n",
    "jumlahKamarMandi = 2\n",
    "lantai = 2\n",
    "jarakkePusatKota = 5.6\n",
    "dayaListrik = 2200\n",
    "tahunBangun = 2015"
   ]
  },
  {
   "cell_type": "code",
   "execution_count": 34,
   "id": "8db69895",
   "metadata": {},
   "outputs": [
    {
     "name": "stdout",
     "output_type": "stream",
     "text": [
      "Prediksi harga rumah: Rp 480,389,462.90\n"
     ]
    }
   ],
   "source": [
    "# 💰 Lakukan Prediksi\n",
    "predicted_price = predict_house_price(luasTanah, kamarTidur, jumlahKamarMandi, lantai, jarakkePusatKota, dayaListrik, tahunBangun)\n",
    "print(f\"Prediksi harga rumah: Rp {predicted_price:,.2f}\")"
   ]
  }
 ],
 "metadata": {
  "kernelspec": {
   "display_name": "Python 3",
   "language": "python",
   "name": "python3"
  },
  "language_info": {
   "codemirror_mode": {
    "name": "ipython",
    "version": 3
   },
   "file_extension": ".py",
   "mimetype": "text/x-python",
   "name": "python",
   "nbconvert_exporter": "python",
   "pygments_lexer": "ipython3",
   "version": "3.12.2"
  }
 },
 "nbformat": 4,
 "nbformat_minor": 5
}
